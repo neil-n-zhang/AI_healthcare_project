{
 "cells": [
  {
   "cell_type": "markdown",
   "metadata": {},
   "source": [
    "# Preparing the dataset for hippocampus segmentation\n",
    "\n",
    "In this notebook you will use the skills and methods that we have talked about during our EDA Lesson to prepare the hippocampus dataset using Python. Follow the Notebook, writing snippets of code where directed so using Task comments, similar to the one below, which expects you to put the proper imports in place. Write your code directly in the cell with TASK comment. Feel free to add cells as you see fit, but please make sure that code that performs that tasked activity sits in the same cell as the Task comment.\n"
   ]
  },
  {
   "cell_type": "code",
   "execution_count": 1,
   "metadata": {},
   "outputs": [],
   "source": [
    "# TASK: Import the following libraries that we will use: nibabel, matplotlib, numpy\n",
    "import numpy as np\n",
    "import nibabel as nib\n",
    "import matplotlib.pyplot as plt\n",
    "import os"
   ]
  },
  {
   "cell_type": "markdown",
   "metadata": {},
   "source": [
    "It will help your understanding of the data a lot if you were able to use a tool that allows you to view NIFTI volumes, like [3D Slicer](https://www.slicer.org/). I will refer to Slicer throughout this Notebook and will be pasting some images showing what your output might look like."
   ]
  },
  {
   "cell_type": "markdown",
   "metadata": {},
   "source": [
    "## Loading NIFTI images using NiBabel\n",
    "\n",
    "NiBabel is a python library for working with neuro-imaging formats (including NIFTI) that we have used in some of the exercises throughout the course. Our volumes and labels are in NIFTI format, so we will use nibabel to load and inspect them.\n",
    "\n",
    "NiBabel documentation could be found here: https://nipy.org/nibabel/\n",
    "\n",
    "Our dataset sits in two directories - *images* and *labels*. Each image is represented by a single file (we are fortunate to have our data converted to NIFTI) and has a corresponding label file which is named the same as the image file.\n",
    "\n",
    "Note that our dataset is \"dirty\". There are a few images and labels that are not quite right. They should be quite obvious to notice, though. The dataset contains an equal amount of \"correct\" volumes and corresponding labels, and you don't need to alter values of any samples in order to get the clean dataset."
   ]
  },
  {
   "cell_type": "code",
   "execution_count": 48,
   "metadata": {},
   "outputs": [],
   "source": [
    "path_img='D:/AI_healthcare/2/project/data/TrainingSet/images'\n",
    "path_label='D:/AI_healthcare/2/project/data/TrainingSet/labels'\n",
    "files=os.listdir(path_img)"
   ]
  },
  {
   "cell_type": "code",
   "execution_count": 26,
   "metadata": {},
   "outputs": [],
   "source": [
    "# TASK: Your data sits in directory /data/TrainingSet.\n",
    "# Load an image and a segmentation mask into variables called image and label\n",
    "image=nib.load(os.path.join(path_img,files[0]))\n",
    "label=nib.load(os.path.join(path_label,files[0]))"
   ]
  },
  {
   "cell_type": "code",
   "execution_count": 27,
   "metadata": {},
   "outputs": [],
   "source": [
    "# Nibabel can present your image data as a Numpy array by calling the method get_fdata()\n",
    "# The array will contain a multi-dimensional Numpy array with numerical values representing voxel intensities. \n",
    "# In our case, images and labels are 3-dimensional, so get_fdata will return a 3-dimensional array. You can verify this\n",
    "# by accessing the .shape attribute. What are the dimensions of the input arrays?\n",
    "\n",
    "# TASK: using matplotlib, visualize a few slices from the dataset, along with their labels. \n",
    "# You can adjust plot sizes like so if you find them too small:\n",
    "# plt.rcParams[\"figure.figsize\"] = (10,10)"
   ]
  },
  {
   "cell_type": "code",
   "execution_count": 28,
   "metadata": {},
   "outputs": [
    {
     "name": "stdout",
     "output_type": "stream",
     "text": [
      "(35, 51, 35) (35, 51, 35)\n"
     ]
    }
   ],
   "source": [
    "print(image.get_fdata().shape, label.get_fdata().shape)"
   ]
  },
  {
   "cell_type": "markdown",
   "metadata": {},
   "source": [
    "The dimension is 35x51x35"
   ]
  },
  {
   "cell_type": "code",
   "execution_count": 29,
   "metadata": {
    "scrolled": true
   },
   "outputs": [
    {
     "data": {
      "text/plain": [
       "<matplotlib.image.AxesImage at 0x21be4812748>"
      ]
     },
     "execution_count": 29,
     "metadata": {},
     "output_type": "execute_result"
    },
    {
     "data": {
      "image/png": "[encoded data removed]",
      "text/plain": [
       "<Figure size 432x288 with 3 Axes>"
      ]
     },
     "metadata": {
      "needs_background": "light"
     },
     "output_type": "display_data"
    }
   ],
   "source": [
    "plt.subplot(131)\n",
    "plt.imshow(image.get_fdata()[:,:,17],cmap='gray')\n",
    "plt.subplot(132)\n",
    "plt.imshow(image.get_fdata()[:,:,19],cmap='gray')\n",
    "plt.subplot(133)\n",
    "plt.imshow(image.get_fdata()[:,:,21],cmap='gray')"
   ]
  },
  {
   "cell_type": "code",
   "execution_count": 30,
   "metadata": {},
   "outputs": [
    {
     "data": {
      "text/plain": [
       "<matplotlib.image.AxesImage at 0x21be4911808>"
      ]
     },
     "execution_count": 30,
     "metadata": {},
     "output_type": "execute_result"
    },
    {
     "data": {
      "image/png": "[encoded data removed]",
      "text/plain": [
       "<Figure size 432x288 with 3 Axes>"
      ]
     },
     "metadata": {
      "needs_background": "light"
     },
     "output_type": "display_data"
    }
   ],
   "source": [
    "plt.subplot(131)\n",
    "plt.imshow(image.get_fdata()[:,:,17]+label.get_fdata()[:,:,17]*100,cmap='gray')\n",
    "plt.subplot(132)\n",
    "plt.imshow(image.get_fdata()[:,:,19]+label.get_fdata()[:,:,19]*100,cmap='gray')\n",
    "plt.subplot(133)\n",
    "plt.imshow(image.get_fdata()[:,:,21]+label.get_fdata()[:,:,21]*100,cmap='gray')"
   ]
  },
  {
   "cell_type": "markdown",
   "metadata": {},
   "source": [
    "Load volume into 3D Slicer to validate that your visualization is correct and get a feel for the shape of structures.Try to get a visualization like the one below (hint: while Slicer documentation is not particularly great, there are plenty of YouTube videos available! Just look it up on YouTube if you are not sure how to do something)\n",
    "\n",
    "![3D slicer](img/Slicer.png)"
   ]
  },
  {
   "cell_type": "code",
   "execution_count": 32,
   "metadata": {},
   "outputs": [],
   "source": [
    "# Stand out suggestion: use one of the simple Volume Rendering algorithms that we've\n",
    "# implemented in one of our earlier lessons to visualize some of these volumes"
   ]
  },
  {
   "cell_type": "markdown",
   "metadata": {},
   "source": [
    "## Looking at single image data\n",
    "In this section we will look closer at the NIFTI representation of our volumes. In order to measure the physical volume of hippocampi, we need to understand the relationship between the sizes of our voxels and the physical world."
   ]
  },
  {
   "cell_type": "code",
   "execution_count": 33,
   "metadata": {
    "scrolled": true
   },
   "outputs": [
    {
     "data": {
      "text/plain": [
       "nibabel.nifti1.Nifti1Header"
      ]
     },
     "execution_count": 33,
     "metadata": {},
     "output_type": "execute_result"
    }
   ],
   "source": [
    "# Nibabel supports many imaging formats, NIFTI being just one of them. I told you that our images \n",
    "# are in NIFTI, but you should confirm if this is indeed the format that we are dealing with\n",
    "# TASK: using .header_class attribute - what is the format of our images?\n",
    "image.header_class"
   ]
  },
  {
   "cell_type": "markdown",
   "metadata": {},
   "source": [
    "It is NIFTI format."
   ]
  },
  {
   "cell_type": "markdown",
   "metadata": {},
   "source": [
    "Further down we will be inspecting .header attribute that provides access to NIFTI metadata. You can use this resource as a reference for various fields: https://brainder.org/2012/09/23/the-nifti-file-format/"
   ]
  },
  {
   "cell_type": "code",
   "execution_count": 35,
   "metadata": {},
   "outputs": [
    {
     "data": {
      "text/plain": [
       "array(8, dtype=int16)"
      ]
     },
     "execution_count": 35,
     "metadata": {},
     "output_type": "execute_result"
    }
   ],
   "source": [
    "# TASK: How many bits per pixel are used?\n",
    "image.header['bitpix']"
   ]
  },
  {
   "cell_type": "markdown",
   "metadata": {},
   "source": [
    "8 bits per pixel"
   ]
  },
  {
   "cell_type": "code",
   "execution_count": 36,
   "metadata": {},
   "outputs": [
    {
     "data": {
      "text/plain": [
       "array(10, dtype=uint8)"
      ]
     },
     "execution_count": 36,
     "metadata": {},
     "output_type": "execute_result"
    }
   ],
   "source": [
    "# TASK: What are the units of measurement?\n",
    "image.header['xyzt_units']"
   ]
  },
  {
   "cell_type": "markdown",
   "metadata": {},
   "source": [
    "10(00001010)=2(00000010)+8(00001000)\n",
    "\n",
    "The spatial dimensions are measured in mm.\n",
    "The temporal dimensions are measured in seconds."
   ]
  },
  {
   "cell_type": "code",
   "execution_count": 37,
   "metadata": {},
   "outputs": [
    {
     "data": {
      "text/plain": [
       "array([1., 1., 1., 1., 1., 0., 0., 0.], dtype=float32)"
      ]
     },
     "execution_count": 37,
     "metadata": {},
     "output_type": "execute_result"
    }
   ],
   "source": [
    "# TASK: Do we have a regular grid? What are grid spacings?\n",
    "image.header['pixdim']"
   ]
  },
  {
   "cell_type": "code",
   "execution_count": 38,
   "metadata": {},
   "outputs": [
    {
     "data": {
      "text/plain": [
       "array([ 3, 35, 51, 35,  1,  1,  1,  1], dtype=int16)"
      ]
     },
     "execution_count": 38,
     "metadata": {},
     "output_type": "execute_result"
    }
   ],
   "source": [
    "image.header['dim']"
   ]
  },
  {
   "cell_type": "markdown",
   "metadata": {},
   "source": [
    "Yes, we have regular grid."
   ]
  },
  {
   "cell_type": "code",
   "execution_count": 39,
   "metadata": {},
   "outputs": [],
   "source": [
    "# TASK: What dimensions represent axial, sagittal, and coronal slices? How do you know?"
   ]
  },
  {
   "cell_type": "code",
   "execution_count": 40,
   "metadata": {},
   "outputs": [
    {
     "data": {
      "text/plain": [
       "array([[1., 0., 0., 1.],\n",
       "       [0., 1., 0., 1.],\n",
       "       [0., 0., 1., 1.],\n",
       "       [0., 0., 0., 1.]])"
      ]
     },
     "execution_count": 40,
     "metadata": {},
     "output_type": "execute_result"
    }
   ],
   "source": [
    "image.affine"
   ]
  },
  {
   "cell_type": "markdown",
   "metadata": {},
   "source": [
    "From the affine matrix, we know the direction of voxel coordinates is the same as the direction of scanner RAS+ coordinates.\n",
    "\n",
    "Therefore, for the dimension 35x51x35, first dimension is sagittal (left,right), the second dimension is coronal (anterior, posterior), the third is axial."
   ]
  },
  {
   "cell_type": "code",
   "execution_count": 41,
   "metadata": {},
   "outputs": [
    {
     "data": {
      "text/plain": [
       "2948"
      ]
     },
     "execution_count": 41,
     "metadata": {},
     "output_type": "execute_result"
    }
   ],
   "source": [
    "# By now you should have enough information to decide what are dimensions of a single voxel\n",
    "# TASK: Compute the volume (in mm³) of a hippocampus using one of the labels you've loaded. \n",
    "# You should get a number between ~2200 and ~4500\n",
    "np.sum(label.get_fdata()>0)"
   ]
  },
  {
   "cell_type": "markdown",
   "metadata": {},
   "source": [
    "Therefore, 2948x1mmx1mmx1mm=2948mm³"
   ]
  },
  {
   "cell_type": "markdown",
   "metadata": {},
   "source": [
    "## Plotting some charts"
   ]
  },
  {
   "cell_type": "code",
   "execution_count": null,
   "metadata": {},
   "outputs": [],
   "source": [
    "# TASK: Plot a histogram of all volumes that we have in our dataset and see how \n",
    "# our dataset measures against a slice of a normal population represented by the chart below."
   ]
  },
  {
   "cell_type": "code",
   "execution_count": 102,
   "metadata": {},
   "outputs": [
    {
     "data": {
      "text/plain": [
       "Text(0.5, 1.0, 'The size of the whole image')"
      ]
     },
     "execution_count": 102,
     "metadata": {},
     "output_type": "execute_result"
    },
    {
     "data": {
      "image/png": "[encoded data removed]",
      "text/plain": [
       "<Figure size 432x288 with 1 Axes>"
      ]
     },
     "metadata": {
      "needs_background": "light"
     },
     "output_type": "display_data"
    }
   ],
   "source": [
    "img_files=os.listdir(path_img)\n",
    "img_total_vol=[]\n",
    "for file in img_files:\n",
    "    img=nib.load(os.path.join(path_img,file))\n",
    "    vol_shape=img.get_fdata().shape\n",
    "    img_total_vol.append(vol_shape[0]*vol_shape[1]*vol_shape[2])\n",
    "plt.hist(img_total_vol)\n",
    "plt.title('The size of the whole image')"
   ]
  },
  {
   "cell_type": "code",
   "execution_count": 106,
   "metadata": {
    "scrolled": true
   },
   "outputs": [
    {
     "data": {
      "text/plain": [
       "array([  6, 180], dtype=int64)"
      ]
     },
     "execution_count": 106,
     "metadata": {},
     "output_type": "execute_result"
    }
   ],
   "source": [
    "img_total_vol=np.array(img_total_vol)\n",
    "img_total_vol.argsort()[-2:][::-1]"
   ]
  },
  {
   "cell_type": "code",
   "execution_count": 107,
   "metadata": {},
   "outputs": [
    {
     "name": "stdout",
     "output_type": "stream",
     "text": [
      "hippocampus_010.nii.gz hippocampus_281.nii.gz\n"
     ]
    }
   ],
   "source": [
    "print(img_files[6],img_files[180])"
   ]
  },
  {
   "cell_type": "code",
   "execution_count": 109,
   "metadata": {},
   "outputs": [
    {
     "data": {
      "text/plain": [
       "Text(0.5, 1.0, 'The size of the hippocampus')"
      ]
     },
     "execution_count": 109,
     "metadata": {},
     "output_type": "execute_result"
    },
    {
     "data": {
      "image/png": "[encoded data removed]",
      "text/plain": [
       "<Figure size 432x288 with 1 Axes>"
      ]
     },
     "metadata": {
      "needs_background": "light"
     },
     "output_type": "display_data"
    }
   ],
   "source": [
    "label_files=os.listdir(path_label)\n",
    "hippo_vol=[]\n",
    "for file in label_files:\n",
    "    label=nib.load(os.path.join(path_label,file))\n",
    "    hippo_vol.append(np.sum(label.get_fdata()>0))\n",
    "plt.hist(hippo_vol,bins=30)\n",
    "plt.title('The size of the hippocampus')"
   ]
  },
  {
   "cell_type": "code",
   "execution_count": 110,
   "metadata": {
    "scrolled": true
   },
   "outputs": [
    {
     "data": {
      "text/plain": [
       "'hippocampus_281.nii.gz'"
      ]
     },
     "execution_count": 110,
     "metadata": {},
     "output_type": "execute_result"
    }
   ],
   "source": [
    "hippo_vol=np.array(hippo_vol)\n",
    "label_files[hippo_vol.argmax()]"
   ]
  },
  {
   "cell_type": "markdown",
   "metadata": {},
   "source": [
    "**We can see from the previous two figures that two image volumes are much larger than the rest. One of them also has outlier for hippocampus volumn.**"
   ]
  },
  {
   "cell_type": "markdown",
   "metadata": {},
   "source": [
    "<img src=\"img/nomogram_fem_right.svg\" width=400 align=left>"
   ]
  },
  {
   "cell_type": "code",
   "execution_count": 111,
   "metadata": {
    "scrolled": false
   },
   "outputs": [
    {
     "data": {
      "text/plain": [
       "Text(0.5, 1.0, 'The size of the hippocampus after outliers removal')"
      ]
     },
     "execution_count": 111,
     "metadata": {},
     "output_type": "execute_result"
    },
    {
     "data": {
      "image/png": "[encoded data removed]",
      "text/plain": [
       "<Figure size 432x288 with 1 Axes>"
      ]
     },
     "metadata": {
      "needs_background": "light"
     },
     "output_type": "display_data"
    }
   ],
   "source": [
    "plt.hist(hippo_vol[hippo_vol<5000],bins=30)\n",
    "plt.title('The size of the hippocampus after outliers removal')"
   ]
  },
  {
   "cell_type": "markdown",
   "metadata": {},
   "source": [
    "**Interestingly, the hippocampus sizes of some samples are below 3000.**"
   ]
  },
  {
   "cell_type": "markdown",
   "metadata": {},
   "source": [
    "Do you see any outliers? Why do you think it's so (might be not immediately obvious, but it's always a good idea to inspect) outliers closer. If you haven't found the images that do not belong, the histogram may help you."
   ]
  },
  {
   "cell_type": "markdown",
   "metadata": {},
   "source": [
    "In the real world we would have precise information about the ages and conditions of our patients, and understanding how our dataset measures against population norm would be the integral part of clinical validation that we talked about in last lesson. Unfortunately, we do not have this information about this dataset, so we can only guess why it measures the way it is. If you would like to explore further, you can use the [calculator from HippoFit project](http://www.smanohar.com/biobank/calculator.html) to see how our dataset compares against different population slices"
   ]
  },
  {
   "cell_type": "markdown",
   "metadata": {},
   "source": [
    "Did you notice anything odd about the label files? We hope you did! The mask seems to have two classes, labeled with values `1` and `2` respectively. If you visualized sagittal or axial views, you might have gotten a good guess of what those are. Class 1 is the anterior segment of the hippocampus and class 2 is the posterior one. \n",
    "\n",
    "For the purpose of volume calculation we do not care about the distinction, however we will still train our network to differentiate between these two classes and the background"
   ]
  },
  {
   "cell_type": "code",
   "execution_count": null,
   "metadata": {},
   "outputs": [],
   "source": [
    "# TASK: Copy the clean dataset to the output folder inside section1/out. You will use it in the next Section"
   ]
  },
  {
   "cell_type": "markdown",
   "metadata": {},
   "source": [
    "**I removed the outliers hippocampus_010.nii.gz hippocampus_281.nii.gz and there are 260 files left.**"
   ]
  },
  {
   "cell_type": "markdown",
   "metadata": {},
   "source": [
    "## Final remarks\n",
    "\n",
    "Congratulations! You have finished Section 1. \n",
    "\n",
    "In this section you have inspected a dataset of MRI scans and related segmentations, represented as NIFTI files. We have visualized some slices, and understood the layout of the data. We have inspected file headers to understand what how the image dimensions relate to the physical world and we have understood how to measure our volume. We have then inspected dataset for outliers, and have created a clean set that is ready for consumption by our ML algorithm. \n",
    "\n",
    "In the next section you will create training and testing pipelines for a UNet-based machine learning model, run and monitor the execution, and will produce test metrics. This will arm you with all you need to use the model in the clinical context and reason about its performance!"
   ]
  }
 ],
 "metadata": {
  "kernelspec": {
   "display_name": "Python 3",
   "language": "python",
   "name": "python3"
  },
  "language_info": {
   "codemirror_mode": {
    "name": "ipython",
    "version": 3
   },
   "file_extension": ".py",
   "mimetype": "text/x-python",
   "name": "python",
   "nbconvert_exporter": "python",
   "pygments_lexer": "ipython3",
   "version": "3.7.6"
  }
 },
 "nbformat": 4,
 "nbformat_minor": 2
}
